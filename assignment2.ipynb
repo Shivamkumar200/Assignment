{
 "cells": [
  {
   "cell_type": "code",
   "execution_count": 2,
   "id": "76e3a32d-d6f7-422e-8212-b698c205a491",
   "metadata": {},
   "outputs": [
    {
     "ename": "SyntaxError",
     "evalue": "unmatched ')' (2596107844.py, line 3)",
     "output_type": "error",
     "traceback": [
      "\u001b[0;36m  Cell \u001b[0;32mIn[2], line 3\u001b[0;36m\u001b[0m\n\u001b[0;31m    1.)line comments\u001b[0m\n\u001b[0m      ^\u001b[0m\n\u001b[0;31mSyntaxError\u001b[0m\u001b[0;31m:\u001b[0m unmatched ')'\n"
     ]
    }
   ],
   "source": [
    "comment code in python by #\n",
    "two types of comments \n",
    "1.)line comments\n",
    "2.)block comments"
   ]
  },
  {
   "cell_type": "code",
   "execution_count": 3,
   "id": "bf84f444-1f18-419b-b8e5-6b5fdba1f381",
   "metadata": {},
   "outputs": [
    {
     "ename": "SyntaxError",
     "evalue": "invalid syntax (1926230727.py, line 1)",
     "output_type": "error",
     "traceback": [
      "\u001b[0;36m  Cell \u001b[0;32mIn[3], line 1\u001b[0;36m\u001b[0m\n\u001b[0;31m    avariable in python is representational name  that serve as pointer to an object\u001b[0m\n\u001b[0m                                            ^\u001b[0m\n\u001b[0;31mSyntaxError\u001b[0m\u001b[0;31m:\u001b[0m invalid syntax\n"
     ]
    }
   ],
   "source": [
    "avariable in python is representational name  that serve as pointer to an object\n",
    "value are assign or declare by \"=\"sign"
   ]
  },
  {
   "cell_type": "code",
   "execution_count": 4,
   "id": "8dcfb75e-a356-4e50-b9fc-87a920fa215b",
   "metadata": {},
   "outputs": [
    {
     "ename": "SyntaxError",
     "evalue": "invalid syntax (3268266966.py, line 1)",
     "output_type": "error",
     "traceback": [
      "\u001b[0;36m  Cell \u001b[0;32mIn[4], line 1\u001b[0;36m\u001b[0m\n\u001b[0;31m    function like int(),float(),str() to directly convert one data type into another\u001b[0m\n\u001b[0m             ^\u001b[0m\n\u001b[0;31mSyntaxError\u001b[0m\u001b[0;31m:\u001b[0m invalid syntax\n"
     ]
    }
   ],
   "source": [
    "function like int(),float(),str() to directly convert one data type into another\n"
   ]
  },
  {
   "cell_type": "code",
   "execution_count": 5,
   "id": "ffc1b827-29e1-4afe-8319-efe7d114b178",
   "metadata": {},
   "outputs": [
    {
     "ename": "SyntaxError",
     "evalue": "invalid syntax (3467871359.py, line 1)",
     "output_type": "error",
     "traceback": [
      "\u001b[0;36m  Cell \u001b[0;32mIn[5], line 1\u001b[0;36m\u001b[0m\n\u001b[0;31m    open a command line write pythonhello.py hello world! press enter the output will be hello world\u001b[0m\n\u001b[0m         ^\u001b[0m\n\u001b[0;31mSyntaxError\u001b[0m\u001b[0;31m:\u001b[0m invalid syntax\n"
     ]
    }
   ],
   "source": [
    "open a command line write pythonhello.py hello world! press enter the output will be hello world"
   ]
  },
  {
   "cell_type": "code",
   "execution_count": 6,
   "id": "e7263a2b-7974-41be-b3e6-7b45c45c84db",
   "metadata": {},
   "outputs": [],
   "source": [
    "my_list=[1,2,3,4,5]"
   ]
  },
  {
   "cell_type": "code",
   "execution_count": 7,
   "id": "0d6200f0-0039-4f2b-831c-8b2083ce9dea",
   "metadata": {},
   "outputs": [
    {
     "data": {
      "text/plain": [
       "list"
      ]
     },
     "execution_count": 7,
     "metadata": {},
     "output_type": "execute_result"
    }
   ],
   "source": [
    "type(my_list)"
   ]
  },
  {
   "cell_type": "code",
   "execution_count": 9,
   "id": "708ef00e-229c-41b3-870a-6545a5230f9b",
   "metadata": {},
   "outputs": [
    {
     "data": {
      "text/plain": [
       "[2, 3]"
      ]
     },
     "execution_count": 9,
     "metadata": {},
     "output_type": "execute_result"
    }
   ],
   "source": [
    "my_list[1:3]"
   ]
  },
  {
   "cell_type": "code",
   "execution_count": 13,
   "id": "48a28b2a-641b-4f13-ac88-a8a10d7dc601",
   "metadata": {},
   "outputs": [
    {
     "ename": "SyntaxError",
     "evalue": "invalid decimal literal (2311365117.py, line 1)",
     "output_type": "error",
     "traceback": [
      "\u001b[0;36m  Cell \u001b[0;32mIn[13], line 1\u001b[0;36m\u001b[0m\n\u001b[0;31m    complex numebr in mathmatics is 6+3i\u001b[0m\n\u001b[0m                                      ^\u001b[0m\n\u001b[0;31mSyntaxError\u001b[0m\u001b[0;31m:\u001b[0m invalid decimal literal\n"
     ]
    }
   ],
   "source": [
    "complex numebr in mathmatics is 6+3i\n",
    "and is represented in python by 6+3j"
   ]
  },
  {
   "cell_type": "code",
   "execution_count": 14,
   "id": "0c867807-0761-437a-9112-1b9746ca014d",
   "metadata": {},
   "outputs": [],
   "source": [
    "l=[name':\"shivam\",'age':23]"
   ]
  },
  {
   "cell_type": "code",
   "execution_count": 17,
   "id": "667275fc-43af-4e4f-bfa2-66d38dc2e697",
   "metadata": {},
   "outputs": [
    {
     "data": {
      "text/plain": [
       "list"
      ]
     },
     "execution_count": 17,
     "metadata": {},
     "output_type": "execute_result"
    }
   ],
   "source": [
    "type(l)"
   ]
  },
  {
   "cell_type": "code",
   "execution_count": 18,
   "id": "50cb9da8-4a20-48c8-a0bb-4a947638b963",
   "metadata": {},
   "outputs": [],
   "source": [
    "l.append(25)"
   ]
  },
  {
   "cell_type": "code",
   "execution_count": 23,
   "id": "b5b23b41-5b01-4dae-9fdf-8ba99cdacca3",
   "metadata": {},
   "outputs": [
    {
     "data": {
      "text/plain": [
       "[2, 3, 4, 'shivam', 'sliet', 25]"
      ]
     },
     "execution_count": 23,
     "metadata": {},
     "output_type": "execute_result"
    }
   ],
   "source": [
    "l"
   ]
  },
  {
   "cell_type": "code",
   "execution_count": 24,
   "id": "ff7c0bb6-e964-4f0e-b68c-8749e985b916",
   "metadata": {},
   "outputs": [],
   "source": [
    "f=(9.99)"
   ]
  },
  {
   "cell_type": "code",
   "execution_count": 25,
   "id": "162a2420-1a23-41a2-a6dd-257fc127029b",
   "metadata": {},
   "outputs": [
    {
     "data": {
      "text/plain": [
       "float"
      ]
     },
     "execution_count": 25,
     "metadata": {},
     "output_type": "execute_result"
    }
   ],
   "source": [
    "type(f)"
   ]
  },
  {
   "cell_type": "code",
   "execution_count": 26,
   "id": "764e9cdc-9563-4837-9ed9-897dba85a23f",
   "metadata": {},
   "outputs": [],
   "source": [
    "s=(\"Hello, World!\")"
   ]
  },
  {
   "cell_type": "code",
   "execution_count": 27,
   "id": "1905e509-6786-4291-ad91-863d756f1838",
   "metadata": {},
   "outputs": [
    {
     "data": {
      "text/plain": [
       "str"
      ]
     },
     "execution_count": 27,
     "metadata": {},
     "output_type": "execute_result"
    }
   ],
   "source": [
    "type(s)"
   ]
  },
  {
   "cell_type": "code",
   "execution_count": 42,
   "id": "ea8010be-5d4c-4cfd-b67b-5ec4b6a547cc",
   "metadata": {},
   "outputs": [
    {
     "ename": "TypeError",
     "evalue": "'int' object is not subscriptable",
     "output_type": "error",
     "traceback": [
      "\u001b[0;31m---------------------------------------------------------------------------\u001b[0m",
      "\u001b[0;31mTypeError\u001b[0m                                 Traceback (most recent call last)",
      "Cell \u001b[0;32mIn[42], line 1\u001b[0m\n\u001b[0;32m----> 1\u001b[0m s\u001b[38;5;241m=\u001b[39m\u001b[43ms\u001b[49m\u001b[43m[\u001b[49m\u001b[38;5;241;43m7\u001b[39;49m\u001b[43m:\u001b[49m\u001b[38;5;241;43m12\u001b[39;49m\u001b[43m]\u001b[49m\n",
      "\u001b[0;31mTypeError\u001b[0m: 'int' object is not subscriptable"
     ]
    }
   ],
   "source": [
    "s=[7:12]\n",
    "    "
   ]
  },
  {
   "cell_type": "code",
   "execution_count": 35,
   "id": "09fa57bb-dd66-45a3-9c1f-16e65657e285",
   "metadata": {},
   "outputs": [],
   "source": [
    "name=\"shivam\""
   ]
  },
  {
   "cell_type": "code",
   "execution_count": 36,
   "id": "be9f31c1-2f14-4b24-9e22-a0c043e3a44d",
   "metadata": {},
   "outputs": [
    {
     "name": "stdout",
     "output_type": "stream",
     "text": [
      "shivam\n"
     ]
    }
   ],
   "source": [
    "print(name)"
   ]
  },
  {
   "cell_type": "code",
   "execution_count": 43,
   "id": "0c2b5e68-5044-49a0-916a-4bd4b968c7f5",
   "metadata": {},
   "outputs": [],
   "source": [
    "is_student= True"
   ]
  },
  {
   "cell_type": "code",
   "execution_count": 48,
   "id": "181d1fd9-a10d-4059-8521-62df315c3a0d",
   "metadata": {},
   "outputs": [
    {
     "data": {
      "text/plain": [
       "True"
      ]
     },
     "execution_count": 48,
     "metadata": {},
     "output_type": "execute_result"
    }
   ],
   "source": [
    "is_student"
   ]
  },
  {
   "cell_type": "code",
   "execution_count": null,
   "id": "4df9cbb3-1707-477c-a114-ae17aadb03e3",
   "metadata": {},
   "outputs": [],
   "source": []
  }
 ],
 "metadata": {
  "kernelspec": {
   "display_name": "Python 3 (ipykernel)",
   "language": "python",
   "name": "python3"
  },
  "language_info": {
   "codemirror_mode": {
    "name": "ipython",
    "version": 3
   },
   "file_extension": ".py",
   "mimetype": "text/x-python",
   "name": "python",
   "nbconvert_exporter": "python",
   "pygments_lexer": "ipython3",
   "version": "3.10.8"
  }
 },
 "nbformat": 4,
 "nbformat_minor": 5
}
